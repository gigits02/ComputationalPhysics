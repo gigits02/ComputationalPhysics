{
 "cells": [
  {
   "cell_type": "code",
   "execution_count": 2,
   "metadata": {},
   "outputs": [
    {
     "data": {
      "text/plain": [
       "[<matplotlib.lines.Line2D at 0x2ab6779cee0>]"
      ]
     },
     "execution_count": 2,
     "metadata": {},
     "output_type": "execute_result"
    },
    {
     "data": {
      "image/png": "[encoded data removed]",
      "text/plain": [
       "<Figure size 432x288 with 1 Axes>"
      ]
     },
     "metadata": {
      "needs_background": "light"
     },
     "output_type": "display_data"
    }
   ],
   "source": [
    "import numpy as np\n",
    "import matplotlib.pyplot as plt\n",
    "t = np.ndarray((24), dtype = np.double)\n",
    "x = np.ndarray((24), dtype = np.double)\n",
    "y = np.ndarray((24), dtype = np.double)\n",
    "vx = np.ndarray((24), dtype = np.double)\n",
    "vy = np.ndarray((24), dtype = np.double)\n",
    "t, x, vx, y, vy = np.loadtxt(\"dati.txt\", unpack = True)\n",
    "plt.plot(x,y, color = 'r')"
   ]
  },
  {
   "cell_type": "code",
   "execution_count": null,
   "metadata": {},
   "outputs": [],
   "source": []
  }
 ],
 "metadata": {
  "kernelspec": {
   "display_name": "Python 3.10.2 64-bit",
   "language": "python",
   "name": "python3"
  },
  "language_info": {
   "codemirror_mode": {
    "name": "ipython",
    "version": 3
   },
   "file_extension": ".py",
   "mimetype": "text/x-python",
   "name": "python",
   "nbconvert_exporter": "python",
   "pygments_lexer": "ipython3",
   "version": "3.10.2"
  },
  "orig_nbformat": 4,
  "vscode": {
   "interpreter": {
    "hash": "1e1f280f6b2efbbdf72eb1442a5f43014879c0798b9b1552b4de8cb53610326b"
   }
  }
 },
 "nbformat": 4,
 "nbformat_minor": 2
}
